{
 "cells": [
  {
   "cell_type": "code",
   "execution_count": 1,
   "metadata": {},
   "outputs": [],
   "source": [
    "from scrapy import Selector\n",
    "import requests\n",
    "from tqdm import tqdm"
   ]
  },
  {
   "cell_type": "code",
   "execution_count": 2,
   "metadata": {},
   "outputs": [],
   "source": [
    "full_url = 'http://www.edu.xunta.gal/centros/iesisaacdiazpardo/'\n",
    "base_url = 'http://www.edu.xunta.gal'\n",
    "\n",
    "output_dir = 'output'"
   ]
  },
  {
   "cell_type": "code",
   "execution_count": 3,
   "metadata": {},
   "outputs": [],
   "source": [
    "def output_file(path, content):\n",
    "    import os\n",
    "    import errno\n",
    "    \n",
    "    filename = output_dir + '/' + path\n",
    "\n",
    "    if not os.path.exists(os.path.dirname(filename)):\n",
    "        try:\n",
    "            os.makedirs(os.path.dirname(filename))\n",
    "        except OSError as exc: # Guard against race condition\n",
    "            if exc.errno != errno.EEXIST:\n",
    "                raise\n",
    "\n",
    "    with open(filename, \"w\") as f:\n",
    "        f.write(content)\n"
   ]
  },
  {
   "cell_type": "code",
   "execution_count": 4,
   "metadata": {},
   "outputs": [],
   "source": [
    "def get_html(url):\n",
    "    return requests.get(full_url).text"
   ]
  },
  {
   "cell_type": "code",
   "execution_count": 5,
   "metadata": {},
   "outputs": [],
   "source": [
    "def get_sources_links(html):\n",
    "    \n",
    "    links = []\n",
    "    \n",
    "    css_links = Selector(text=html).xpath('//link/@href').getall()\n",
    "    js_links = Selector(text=html).xpath('//script/@src').getall()\n",
    "    img_links = Selector(text=html).xpath('//img/@src').getall()\n",
    "\n",
    "    links.extend(css_links)\n",
    "    links.extend(js_links)\n",
    "    links.extend(img_links)\n",
    "\n",
    "    return links"
   ]
  },
  {
   "cell_type": "code",
   "execution_count": 6,
   "metadata": {},
   "outputs": [],
   "source": [
    "def save_html(html):\n",
    "    import json\n",
    "    json_html = json.dumps({'html': html})\n",
    "        \n",
    "    output_file('./index.html', html)\n",
    "    output_file('./index.html.json', json_html)"
   ]
  },
  {
   "cell_type": "code",
   "execution_count": 7,
   "metadata": {
    "scrolled": true
   },
   "outputs": [],
   "source": [
    "def parse_links(links): \n",
    "    parsed_links = []\n",
    "    \n",
    "    for link in links:\n",
    "        if(link[:5] == 'data:'):\n",
    "            continue\n",
    "        \n",
    "        if (link[:7] != 'http://'):\n",
    "            parsed_links.append(base_url + link)\n",
    "        \n",
    "        else:\n",
    "            parsed_links.append(link)\n",
    "\n",
    "    return parsed_links"
   ]
  },
  {
   "cell_type": "code",
   "execution_count": 23,
   "metadata": {},
   "outputs": [],
   "source": [
    "def save_sources(source_links):\n",
    "    for link in tqdm(source_links):\n",
    "        try:\n",
    "            source = requests.get(link).text\n",
    "\n",
    "            _, path = link.split(base_url)\n",
    "\n",
    "            path = path.split('?')[0]\n",
    "\n",
    "            output_file(f'./{path}', source)\n",
    "            \n",
    "        except Exception as e: \n",
    "            print(e)"
   ]
  },
  {
   "cell_type": "code",
   "execution_count": 25,
   "metadata": {
    "scrolled": true
   },
   "outputs": [
    {
     "name": "stderr",
     "output_type": "stream",
     "text": [
      " 88%|████████▊ | 53/60 [00:04<00:00, 12.65it/s]"
     ]
    },
    {
     "name": "stdout",
     "output_type": "stream",
     "text": [
      "HTTPConnectionPool(host='www.edu.xunta.galhttps', port=80): Max retries exceeded with url: //www.edu.xunta.es/espazoAbalar/sites/espazoAbalar/files/images/abalar-mobil-es.png (Caused by NewConnectionError('<urllib3.connection.HTTPConnection object at 0x7f2388c422d0>: Failed to establish a new connection: [Errno -2] Name or service not known'))\n"
     ]
    },
    {
     "name": "stderr",
     "output_type": "stream",
     "text": [
      " 98%|█████████▊| 59/60 [00:05<00:00, 10.50it/s]"
     ]
    },
    {
     "name": "stdout",
     "output_type": "stream",
     "text": [
      "not enough values to unpack (expected 2, got 1)\n",
      "HTTPSConnectionPool(host='www.edu.xunta.gal', port=443): Max retries exceeded with url: /biblioteca/blog/files/BE_web_transp_150.png (Caused by SSLError(SSLCertVerificationError(1, '[SSL: CERTIFICATE_VERIFY_FAILED] certificate verify failed: unable to get local issuer certificate (_ssl.c:1076)')))\n"
     ]
    },
    {
     "name": "stderr",
     "output_type": "stream",
     "text": [
      "100%|██████████| 60/60 [00:05<00:00, 10.52it/s]\n"
     ]
    }
   ],
   "source": [
    "html = get_html(base_url)\n",
    "save_html(html)\n",
    "\n",
    "unparsed_links = get_sources_links(html)\n",
    "links = parse_links(unparsed_links)\n",
    "\n",
    "save_sources(links)"
   ]
  }
 ],
 "metadata": {
  "kernelspec": {
   "display_name": "Python 3.7.6 64-bit ('base': conda)",
   "language": "python",
   "name": "python37664bitbaseconda7aa6840857c04f3097ec05d42b7cd720"
  },
  "language_info": {
   "codemirror_mode": {
    "name": "ipython",
    "version": 3
   },
   "file_extension": ".py",
   "mimetype": "text/x-python",
   "name": "python",
   "nbconvert_exporter": "python",
   "pygments_lexer": "ipython3",
   "version": "3.7.6"
  }
 },
 "nbformat": 4,
 "nbformat_minor": 4
}
