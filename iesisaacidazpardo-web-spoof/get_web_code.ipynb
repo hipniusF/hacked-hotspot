{
 "cells": [
  {
   "cell_type": "code",
   "execution_count": 1,
   "metadata": {},
   "outputs": [],
   "source": [
    "from scrapy import Selector\n",
    "import requests\n",
    "from tqdm import tqdm"
   ]
  },
  {
   "cell_type": "code",
   "execution_count": 2,
   "metadata": {},
   "outputs": [],
   "source": [
    "full_url = 'http://www.edu.xunta.gal/centros/iesisaacdiazpardo/'\n",
    "base_url = 'http://www.edu.xunta.gal'\n",
    "\n",
    "output_dir = 'output'"
   ]
  },
  {
   "cell_type": "code",
   "execution_count": 3,
   "metadata": {},
   "outputs": [],
   "source": [
    "def output_file(path, content):\n",
    "    import os\n",
    "    import errno\n",
    "    \n",
    "    filename = output_dir + '/' + path\n",
    "\n",
    "    if not os.path.exists(os.path.dirname(filename)):\n",
    "        try:\n",
    "            os.makedirs(os.path.dirname(filename))\n",
    "        except OSError as exc: # Guard against race condition\n",
    "            if exc.errno != errno.EEXIST:\n",
    "                raise\n",
    "\n",
    "    with open(filename, \"w\") as f:\n",
    "        f.write(content)\n"
   ]
  },
  {
   "cell_type": "code",
   "execution_count": 4,
   "metadata": {},
   "outputs": [],
   "source": [
    "def get_html(url):\n",
    "    return requests.get(full_url).text"
   ]
  },
  {
   "cell_type": "code",
   "execution_count": 5,
   "metadata": {},
   "outputs": [],
   "source": [
    "def get_sources_links(html):\n",
    "    \n",
    "    links = []\n",
    "    \n",
    "    css_links = Selector(text=html).xpath('//link/@href').getall()\n",
    "    js_links = Selector(text=html).xpath('//script/@src').getall()\n",
    "\n",
    "    links.extend(css_links)\n",
    "    links.extend(js_links)\n",
    "\n",
    "    return links"
   ]
  },
  {
   "cell_type": "code",
   "execution_count": 6,
   "metadata": {},
   "outputs": [],
   "source": [
    "def save_html(html):\n",
    "    output_file('./index.html', html)"
   ]
  },
  {
   "cell_type": "code",
   "execution_count": 7,
   "metadata": {
    "scrolled": true
   },
   "outputs": [],
   "source": [
    "def parse_links(links): \n",
    "    parsed_links = []\n",
    "    \n",
    "    for link in links:\n",
    "        if (link[:7] != 'http://'):\n",
    "            parsed_links.append(base_url + link)\n",
    "        \n",
    "        else:\n",
    "            parsed_links.append(link)\n",
    "\n",
    "    return parsed_links"
   ]
  },
  {
   "cell_type": "code",
   "execution_count": 8,
   "metadata": {},
   "outputs": [],
   "source": [
    "def save_sources(source_links):\n",
    "    for link in tqdm(source_links):\n",
    "        \n",
    "        source = requests.get(link).text\n",
    "        \n",
    "        _, path = link.split(full_url)\n",
    "                \n",
    "        output_file(f'./{path}', source)"
   ]
  },
  {
   "cell_type": "code",
   "execution_count": 9,
   "metadata": {
    "scrolled": true
   },
   "outputs": [
    {
     "name": "stderr",
     "output_type": "stream",
     "text": [
      "100%|██████████| 50/50 [00:03<00:00, 14.98it/s]\n"
     ]
    }
   ],
   "source": [
    "html = get_html(full_url)\n",
    "save_html(html)\n",
    "\n",
    "unparsed_links = get_sources_links(html)\n",
    "links = parse_links(unparsed_links)\n",
    "\n",
    "save_sources(links)"
   ]
  }
 ],
 "metadata": {
  "kernelspec": {
   "display_name": "Python 3.7.6 64-bit ('base': conda)",
   "language": "python",
   "name": "python37664bitbaseconda7aa6840857c04f3097ec05d42b7cd720"
  },
  "language_info": {
   "codemirror_mode": {
    "name": "ipython",
    "version": 3
   },
   "file_extension": ".py",
   "mimetype": "text/x-python",
   "name": "python",
   "nbconvert_exporter": "python",
   "pygments_lexer": "ipython3",
   "version": "3.7.6"
  }
 },
 "nbformat": 4,
 "nbformat_minor": 4
}
